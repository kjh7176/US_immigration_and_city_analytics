{
 "cells": [
  {
   "cell_type": "code",
   "execution_count": 1,
   "metadata": {
    "editable": true
   },
   "outputs": [],
   "source": [
    "from pyspark.sql import SparkSession\n",
    "import pandas as pd"
   ]
  },
  {
   "cell_type": "code",
   "execution_count": 2,
   "metadata": {
    "editable": true
   },
   "outputs": [],
   "source": [
    "spark = SparkSession \\\n",
    "    .builder \\\n",
    "    .appName(\"Wrangling Data\") \\\n",
    "    .getOrCreate()"
   ]
  },
  {
   "cell_type": "code",
   "execution_count": 3,
   "metadata": {
    "editable": true
   },
   "outputs": [],
   "source": [
    "df = spark.read.csv(\"airport-codes_csv.csv\", header=True, inferSchema=True)"
   ]
  },
  {
   "cell_type": "code",
   "execution_count": 4,
   "metadata": {
    "editable": true
   },
   "outputs": [
    {
     "name": "stdout",
     "output_type": "stream",
     "text": [
      "root\n",
      " |-- ident: string (nullable = true)\n",
      " |-- type: string (nullable = true)\n",
      " |-- name: string (nullable = true)\n",
      " |-- elevation_ft: integer (nullable = true)\n",
      " |-- continent: string (nullable = true)\n",
      " |-- iso_country: string (nullable = true)\n",
      " |-- iso_region: string (nullable = true)\n",
      " |-- municipality: string (nullable = true)\n",
      " |-- gps_code: string (nullable = true)\n",
      " |-- iata_code: string (nullable = true)\n",
      " |-- local_code: string (nullable = true)\n",
      " |-- coordinates: string (nullable = true)\n",
      "\n"
     ]
    }
   ],
   "source": [
    "df.printSchema()"
   ]
  },
  {
   "cell_type": "code",
   "execution_count": 5,
   "metadata": {
    "editable": true
   },
   "outputs": [
    {
     "name": "stdout",
     "output_type": "stream",
     "text": [
      "+-----+-------------+--------------------+------------+---------+-----------+----------+------------+--------+---------+----------+--------------------+\n",
      "|ident|         type|                name|elevation_ft|continent|iso_country|iso_region|municipality|gps_code|iata_code|local_code|         coordinates|\n",
      "+-----+-------------+--------------------+------------+---------+-----------+----------+------------+--------+---------+----------+--------------------+\n",
      "|  00A|     heliport|   Total Rf Heliport|          11|       NA|         US|     US-PA|    Bensalem|     00A|     null|       00A|-74.9336013793945...|\n",
      "| 00AA|small_airport|Aero B Ranch Airport|        3435|       NA|         US|     US-KS|       Leoti|    00AA|     null|      00AA|-101.473911, 38.7...|\n",
      "| 00AK|small_airport|        Lowell Field|         450|       NA|         US|     US-AK|Anchor Point|    00AK|     null|      00AK|-151.695999146, 5...|\n",
      "| 00AL|small_airport|        Epps Airpark|         820|       NA|         US|     US-AL|     Harvest|    00AL|     null|      00AL|-86.7703018188476...|\n",
      "| 00AR|       closed|Newport Hospital ...|         237|       NA|         US|     US-AR|     Newport|    null|     null|      null| -91.254898, 35.6087|\n",
      "| 00AS|small_airport|      Fulton Airport|        1100|       NA|         US|     US-OK|        Alex|    00AS|     null|      00AS|-97.8180194, 34.9...|\n",
      "| 00AZ|small_airport|      Cordes Airport|        3810|       NA|         US|     US-AZ|      Cordes|    00AZ|     null|      00AZ|-112.165000915527...|\n",
      "| 00CA|small_airport|Goldstone /Gts/ A...|        3038|       NA|         US|     US-CA|     Barstow|    00CA|     null|      00CA|-116.888000488, 3...|\n",
      "| 00CL|small_airport| Williams Ag Airport|          87|       NA|         US|     US-CA|       Biggs|    00CL|     null|      00CL|-121.763427, 39.4...|\n",
      "| 00CN|     heliport|Kitchen Creek Hel...|        3350|       NA|         US|     US-CA| Pine Valley|    00CN|     null|      00CN|-116.4597417, 32....|\n",
      "+-----+-------------+--------------------+------------+---------+-----------+----------+------------+--------+---------+----------+--------------------+\n",
      "only showing top 10 rows\n",
      "\n"
     ]
    }
   ],
   "source": [
    "df.show(10)"
   ]
  },
  {
   "cell_type": "code",
   "execution_count": 6,
   "metadata": {
    "editable": true
   },
   "outputs": [
    {
     "name": "stdout",
     "output_type": "stream",
     "text": [
      "+---------+-----+\n",
      "|iata_code|count|\n",
      "+---------+-----+\n",
      "|     null|45886|\n",
      "|        0|   80|\n",
      "|      OHE|    3|\n",
      "|      PRI|    3|\n",
      "|      CMN|    2|\n",
      "|      CLG|    2|\n",
      "|      TFY|    2|\n",
      "|      MUP|    2|\n",
      "|      IST|    2|\n",
      "|      IZA|    2|\n",
      "+---------+-----+\n",
      "only showing top 10 rows\n",
      "\n"
     ]
    }
   ],
   "source": [
    "df.select(\"iata_code\").groupby(\"iata_code\").count().orderBy(\"count\", ascending=False).show(10)"
   ]
  },
  {
   "cell_type": "code",
   "execution_count": 7,
   "metadata": {
    "editable": true
   },
   "outputs": [
    {
     "name": "stdout",
     "output_type": "stream",
     "text": [
      "+-----+-----+\n",
      "|ident|count|\n",
      "+-----+-----+\n",
      "| 06IN|    1|\n",
      "| 06VA|    1|\n",
      "| 0LA0|    1|\n",
      "| 0MD6|    1|\n",
      "| 0OH7|    1|\n",
      "| 0OK9|    1|\n",
      "| 11KS|    1|\n",
      "| 12PR|    1|\n",
      "| 16KY|    1|\n",
      "| 19OI|    1|\n",
      "+-----+-----+\n",
      "only showing top 10 rows\n",
      "\n"
     ]
    }
   ],
   "source": [
    "df.select(\"ident\").groupby(\"ident\").count().orderBy(\"count\", ascending=False).show(10)"
   ]
  },
  {
   "cell_type": "code",
   "execution_count": 8,
   "metadata": {
    "editable": true
   },
   "outputs": [
    {
     "name": "stdout",
     "output_type": "stream",
     "text": [
      "+--------+-----+\n",
      "|gps_code|count|\n",
      "+--------+-----+\n",
      "|    null|14045|\n",
      "|    MBAC|    3|\n",
      "|    ZYMH|    3|\n",
      "|    SGGR|    2|\n",
      "|    SDAZ|    2|\n",
      "|    SSRA|    2|\n",
      "|    WA98|    2|\n",
      "|    1TS9|    2|\n",
      "|    EGZJ|    2|\n",
      "|    RK3D|    2|\n",
      "+--------+-----+\n",
      "only showing top 10 rows\n",
      "\n"
     ]
    }
   ],
   "source": [
    "df.select(\"gps_code\").groupby(\"gps_code\").count().orderBy(\"count\", ascending=False).show(10)"
   ]
  },
  {
   "cell_type": "code",
   "execution_count": 9,
   "metadata": {
    "editable": true
   },
   "outputs": [
    {
     "name": "stdout",
     "output_type": "stream",
     "text": [
      "+----------+-----+\n",
      "|local_code|count|\n",
      "+----------+-----+\n",
      "|      null|26389|\n",
      "|       AMA|    5|\n",
      "|       LAN|    5|\n",
      "|       ROS|    4|\n",
      "|       CAR|    4|\n",
      "|       HRR|    4|\n",
      "|       PAL|    4|\n",
      "|       AGI|    4|\n",
      "|       SLR|    4|\n",
      "|       TOL|    4|\n",
      "+----------+-----+\n",
      "only showing top 10 rows\n",
      "\n"
     ]
    }
   ],
   "source": [
    "df.select(\"local_code\").groupby(\"local_code\").count().orderBy(\"count\", ascending=False).show(10)"
   ]
  },
  {
   "cell_type": "code",
   "execution_count": 10,
   "metadata": {
    "editable": true
   },
   "outputs": [
    {
     "name": "stdout",
     "output_type": "stream",
     "text": [
      "+-----------+-----+\n",
      "|iso_country|count|\n",
      "+-----------+-----+\n",
      "|         US|22757|\n",
      "|         BR| 4334|\n",
      "|         CA| 2784|\n",
      "|         AU| 1963|\n",
      "|         KR| 1376|\n",
      "|         MX| 1181|\n",
      "|         RU| 1040|\n",
      "|         DE|  947|\n",
      "|         GB|  911|\n",
      "|         FR|  850|\n",
      "+-----------+-----+\n",
      "only showing top 10 rows\n",
      "\n"
     ]
    }
   ],
   "source": [
    "df.select(\"iso_country\").groupby(\"iso_country\").count().orderBy(\"count\", ascending=False).show(10)"
   ]
  },
  {
   "cell_type": "code",
   "execution_count": 11,
   "metadata": {
    "editable": true
   },
   "outputs": [
    {
     "data": {
      "text/plain": [
       "55075"
      ]
     },
     "execution_count": 11,
     "metadata": {},
     "output_type": "execute_result"
    }
   ],
   "source": [
    "df.count()"
   ]
  },
  {
   "cell_type": "code",
   "execution_count": 12,
   "metadata": {
    "editable": true
   },
   "outputs": [
    {
     "name": "stdout",
     "output_type": "stream",
     "text": [
      "+--------------+-----+\n",
      "|          type|count|\n",
      "+--------------+-----+\n",
      "| small_airport|33965|\n",
      "|      heliport|11287|\n",
      "|medium_airport| 4550|\n",
      "|        closed| 3606|\n",
      "| seaplane_base| 1016|\n",
      "| large_airport|  627|\n",
      "|   balloonport|   24|\n",
      "+--------------+-----+\n",
      "\n"
     ]
    }
   ],
   "source": [
    "df.select(\"type\").groupby(\"type\").count().orderBy(\"count\", ascending=False).show(10)"
   ]
  },
  {
   "cell_type": "code",
   "execution_count": 13,
   "metadata": {
    "editable": true
   },
   "outputs": [
    {
     "name": "stdout",
     "output_type": "stream",
     "text": [
      "+---------+-----+\n",
      "|continent|count|\n",
      "+---------+-----+\n",
      "|       NA|27719|\n",
      "|       EU| 7840|\n",
      "|       SA| 7709|\n",
      "|       AS| 5350|\n",
      "|       AF| 3362|\n",
      "|       OC| 3067|\n",
      "|       AN|   28|\n",
      "+---------+-----+\n",
      "\n"
     ]
    }
   ],
   "source": [
    "df.select(\"continent\").groupby(\"continent\").count().orderBy(\"count\", ascending=False).show(10)"
   ]
  },
  {
   "cell_type": "code",
   "execution_count": 14,
   "metadata": {
    "editable": true
   },
   "outputs": [
    {
     "name": "stdout",
     "output_type": "stream",
     "text": [
      "+-----+-------------+--------------------+---------+-----------+----------+\n",
      "|ident|         type|                name|continent|iso_country|iso_region|\n",
      "+-----+-------------+--------------------+---------+-----------+----------+\n",
      "| 00AS|small_airport|      Fulton Airport|       NA|         US|     US-OK|\n",
      "| 02FL|small_airport|     Cuchens Airport|       NA|         US|     US-FL|\n",
      "| 03NH|     heliport|     Lorden Heliport|       NA|         US|     US-NH|\n",
      "| 05PS|small_airport|Mills Brothers Ai...|       NA|         US|     US-PA|\n",
      "| 09LL|small_airport|   Pine Hill Airport|       NA|         US|     US-IL|\n",
      "| 0CD7|small_airport|    Fox Hole Airport|       NA|         US|     US-CO|\n",
      "| 0IA5|small_airport|Moore Private Air...|       NA|         US|     US-IA|\n",
      "|  0S2|small_airport|Stockton Municipa...|       NA|         US|     US-KS|\n",
      "| 12IL|small_airport|      Hawker Airport|       NA|         US|     US-IL|\n",
      "| 13FA|small_airport|       Earle Airpark|       NA|         US|     US-FL|\n",
      "+-----+-------------+--------------------+---------+-----------+----------+\n",
      "only showing top 10 rows\n",
      "\n"
     ]
    }
   ],
   "source": [
    "df_airport = df.select('ident', 'type', 'name', 'continent', 'iso_country', 'iso_region').dropDuplicates()\n",
    "df_airport.show(10)"
   ]
  },
  {
   "cell_type": "code",
   "execution_count": 19,
   "metadata": {
    "editable": true
   },
   "outputs": [
    {
     "data": {
      "text/plain": [
       "55075"
      ]
     },
     "execution_count": 19,
     "metadata": {},
     "output_type": "execute_result"
    }
   ],
   "source": [
    "df_airport.count()"
   ]
  },
  {
   "cell_type": "code",
   "execution_count": 11,
   "metadata": {
    "editable": true
   },
   "outputs": [],
   "source": [
    "from pyspark.sql.functions import split"
   ]
  },
  {
   "cell_type": "code",
   "execution_count": 15,
   "metadata": {
    "editable": true
   },
   "outputs": [
    {
     "name": "stdout",
     "output_type": "stream",
     "text": [
      "+-----+-------------+--------------------+---------+-----------+----------+\n",
      "|ident|         type|                name|continent|iso_country|iso_region|\n",
      "+-----+-------------+--------------------+---------+-----------+----------+\n",
      "| 00AS|small_airport|      Fulton Airport|       NA|         US|        OK|\n",
      "| 02FL|small_airport|     Cuchens Airport|       NA|         US|        FL|\n",
      "| 03NH|     heliport|     Lorden Heliport|       NA|         US|        NH|\n",
      "| 05PS|small_airport|Mills Brothers Ai...|       NA|         US|        PA|\n",
      "| 09LL|small_airport|   Pine Hill Airport|       NA|         US|        IL|\n",
      "| 0CD7|small_airport|    Fox Hole Airport|       NA|         US|        CO|\n",
      "| 0IA5|small_airport|Moore Private Air...|       NA|         US|        IA|\n",
      "|  0S2|small_airport|Stockton Municipa...|       NA|         US|        KS|\n",
      "| 12IL|small_airport|      Hawker Airport|       NA|         US|        IL|\n",
      "| 13FA|small_airport|       Earle Airpark|       NA|         US|        FL|\n",
      "+-----+-------------+--------------------+---------+-----------+----------+\n",
      "only showing top 10 rows\n",
      "\n"
     ]
    }
   ],
   "source": [
    "df_airport = df_airport.withColumn('iso_region', split(df_airport['iso_region'], '-')[1])\n",
    "df_airport.show(10)"
   ]
  },
  {
   "cell_type": "code",
   "execution_count": 16,
   "metadata": {
    "editable": true
   },
   "outputs": [],
   "source": [
    "df_airport.write.parquet(\"airport\", mode=\"overwrite\", partitionBy=[\"continent\"])"
   ]
  }
 ],
 "metadata": {
  "kernelspec": {
   "display_name": "Python 3",
   "language": "python",
   "name": "python3"
  },
  "language_info": {
   "codemirror_mode": {
    "name": "ipython",
    "version": 3
   },
   "file_extension": ".py",
   "mimetype": "text/x-python",
   "name": "python",
   "nbconvert_exporter": "python",
   "pygments_lexer": "ipython3",
   "version": "3.6.3"
  }
 },
 "nbformat": 4,
 "nbformat_minor": 4
}
