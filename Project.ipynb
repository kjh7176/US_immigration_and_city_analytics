{
 "cells": [
  {
   "cell_type": "markdown",
   "metadata": {
    "editable": true
   },
   "source": [
    "# US Immigration and City Analytics\n",
    "\n",
    "#### Project Summary\n",
    "This project is aimed to analyize the correlation between immigrants and city's satistics in the US.\n",
    "\n",
    "The project follows the follow steps:\n",
    "* Step 1: Scope the Project and Gather Data\n",
    "* Step 2: Explore and Assess the Data\n",
    "* Step 3: Define the Data Model\n",
    "* Step 4: Run ETL to Model the Data\n",
    "* Step 5: Complete Project Write Up"
   ]
  },
  {
   "cell_type": "code",
   "execution_count": 1,
   "metadata": {
    "editable": true
   },
   "outputs": [],
   "source": [
    "import pandas as pd\n",
    "from pyspark.sql.functions import *\n",
    "from pyspark.sql.types import *\n",
    "from pyspark.sql import SparkSession"
   ]
  },
  {
   "cell_type": "code",
   "execution_count": 2,
   "metadata": {
    "editable": true
   },
   "outputs": [],
   "source": [
    "# create spark session\n",
    "spark = SparkSession \\\n",
    "    .builder \\\n",
    "    .appName(\"Capstone project\") \\\n",
    "    .getOrCreate()"
   ]
  },
  {
   "cell_type": "markdown",
   "metadata": {
    "editable": true
   },
   "source": [
    "### Step 1: Scope the Project and Gather Data\n",
    "\n",
    "#### Scope \n",
    "The questions I have are as following:  \n",
    "1. Which countries do many immigrants come from by type of visa?\n",
    "2. What is the city and its median age that each immigrants group -in the age under 20, 21-25, 26-40, 41-60, and above 61 - prefer to live in?\n",
    "3. What is the most preferred state for immigrants by their nation and what is the racial ratio in the state?\n",
    "4. What is foreign-born rate of immigrants' top 10 cities?  \n",
    "\n",
    "To solve above questions, I will gather data, extract what are needed, transform them, and load to parquet file as an analytic table.  \n",
    "Therefore the data I want to extract in the end includes:  \n",
    "1. immigrants' departure, destination, age, and visa type\n",
    "2. each city's racial, foreign-born, total population, and median age\n",
    "3. country code and its name\n",
    "As the size of immigrants data is too large, I use `Apache Spark` to process data with parallel computing.\n",
    "\n",
    "#### Describe and Gather Data \n",
    "1. **Immigration data** : `../../data/18-83510-I94-Data-2016/i94_jun16_sub.sas7bdat`  \n",
    "I94 Immigration Data: This data comes from the US National Tourism and Trade Office.  \n",
    "![immigration](img/immigration.png)  \n",
    "2. **US cities statistic data** : `immigration_data_sample.csv`  \n",
    "This data is for cities population, age, race etc... coming from OpenSoft.  \n",
    "![city](img/city.png)  \n",
    "3. **Country code data** : `country_code.txt`  \n",
    "Country code is necessary to understand where immigrants came from. This is extracted from immigration data description.  \n",
    "![country](img/country.PNG)"
   ]
  },
  {
   "cell_type": "code",
   "execution_count": 3,
   "metadata": {
    "editable": true
   },
   "outputs": [],
   "source": [
    "# read immigration data\n",
    "fname = '../../data/18-83510-I94-Data-2016/i94_apr16_sub.sas7bdat'\n",
    "df_imgr = pd.read_sas(fname, encoding=\"ISO-8859-1\")"
   ]
  },
  {
   "cell_type": "code",
   "execution_count": 94,
   "metadata": {
    "editable": true
   },
   "outputs": [],
   "source": [
    "# read cities data\n",
    "df_cities = spark.read.csv(\"us-cities-demographics.csv\", sep=';', header=True, inferSchema=True)"
   ]
  },
  {
   "cell_type": "code",
   "execution_count": 5,
   "metadata": {
    "editable": true
   },
   "outputs": [],
   "source": [
    "# read country code data\n",
    "f = open(\"country_code.txt\", \"r\")\n",
    "lines = f.readlines()"
   ]
  },
  {
   "cell_type": "markdown",
   "metadata": {
    "editable": true
   },
   "source": [
    "### Step 2: Explore and Assess the Data\n",
    "#### Explore the Data \n",
    "There are some issues with data.\n",
    "1. For immigration data, there exist NA/NaN values."
   ]
  },
  {
   "cell_type": "code",
   "execution_count": 6,
   "metadata": {
    "editable": true
   },
   "outputs": [],
   "source": [
    "# select columns to use\n",
    "df_imgr = df_imgr[['cicid','i94yr','i94mon','i94cit',\n",
    "                   'i94res','i94port','i94addr',\n",
    "                   'biryear','gender','visatype']]"
   ]
  },
  {
   "cell_type": "code",
   "execution_count": 7,
   "metadata": {
    "editable": true
   },
   "outputs": [],
   "source": [
    "# fill NA/NaN values with 0\n",
    "df_imgr = df_imgr.fillna(0)"
   ]
  },
  {
   "cell_type": "code",
   "execution_count": 9,
   "metadata": {
    "editable": true
   },
   "outputs": [],
   "source": [
    "# reset type of each column\n",
    "df_imgr = df_imgr.astype({'cicid':'int32',\n",
    "           'i94yr':'int32',\n",
    "           'i94mon':'int32',\n",
    "           'i94cit':'int32',\n",
    "           'i94res':'int32',\n",
    "           'i94port':'object',\n",
    "           'i94addr':'object',\n",
    "           'biryear':'int32',\n",
    "           'gender':'object',\n",
    "           'visatype':'object'\n",
    "})\n",
    "\n",
    "# set schema for spark dataframe\n",
    "imgr_schema = StructType([\n",
    "    StructField('id', IntegerType()),\n",
    "    StructField('year', IntegerType()),\n",
    "    StructField('month', IntegerType()),\n",
    "    StructField('cit', IntegerType()),\n",
    "    StructField('res', IntegerType()),\n",
    "    StructField('port', StringType()),\n",
    "    StructField('addr', StringType()),\n",
    "    StructField('birth', IntegerType()),\n",
    "    StructField('gender', StringType()),\n",
    "    StructField('visa', StringType())\n",
    "])\n",
    "\n",
    "# create spark dataframe\n",
    "df_imgr = spark.createDataFrame(df_imgr, schema=imgr_schema)"
   ]
  },
  {
   "cell_type": "markdown",
   "metadata": {
    "editable": true
   },
   "source": [
    "2. For 5 datasets from us-cities-demographics, some rows are duplicated."
   ]
  },
  {
   "cell_type": "code",
   "execution_count": 96,
   "metadata": {
    "editable": true
   },
   "outputs": [],
   "source": [
    "# select columns for age table\n",
    "df_age = df_cities\\\n",
    "    .select(\"City\", \n",
    "            \"State\",\n",
    "            col(\"State Code\").alias(\"State_Code\"),\n",
    "            col(\"Median Age\").alias(\"Median_age\"))\n",
    "\n",
    "# select columns for foreign table\n",
    "df_foreign = df_cities\\\n",
    "    .select(\"City\", \n",
    "            \"State\",\n",
    "            col(\"State Code\").alias(\"State_Code\"),\n",
    "            col(\"Foreign-born\").alias(\"Foreign_Born\"))\n",
    "\n",
    "# select columns for population table\n",
    "df_population = df_cities\\\n",
    "    .select(\"City\", \n",
    "            \"State\",\n",
    "            col(\"State Code\").alias(\"State_Code\"),\n",
    "            col(\"Male Population\").alias(\"Male\"), \n",
    "            col(\"Female population\").alias(\"Female\"), \n",
    "            col(\"total population\").alias(\"total\"))\n",
    "\n",
    "# select columns for race table\n",
    "df_race = df_cities\\\n",
    "    .select(\"City\", \n",
    "            \"State\",\n",
    "            col(\"State Code\").alias(\"State_Code\"),\n",
    "            \"Race\", \n",
    "            \"Count\")"
   ]
  },
  {
   "cell_type": "code",
   "execution_count": 98,
   "metadata": {
    "editable": true
   },
   "outputs": [
    {
     "name": "stdout",
     "output_type": "stream",
     "text": [
      "age: 594\n",
      "foreign: 594\n",
      "population: 594\n",
      "race: 0\n"
     ]
    }
   ],
   "source": [
    "def check_duplicate():\n",
    "    \"\"\"\n",
    "    Checks if there exists any duplicate data in tables.\n",
    "    \"\"\"\n",
    "    \n",
    "    result = {}\n",
    "    # all city should have unique median_age\n",
    "    result[\"age\"] = df_age.select(\"City\", \"State\")\\\n",
    "        .groupby(\"City\", \"State\")\\\n",
    "        .count()\\\n",
    "        .filter(col(\"count\") > 1)\\\n",
    "        .count()\n",
    "    \n",
    "    # all city and state should have unique foreign_born\n",
    "    result[\"foreign\"] = df_foreign.select(\"City\", \"State\")\\\n",
    "        .groupby(\"City\", \"State\")\\\n",
    "        .count()\\\n",
    "        .filter(col(\"count\") > 1)\\\n",
    "        .count()\n",
    "    \n",
    "    # all city and state should have unique population\n",
    "    result[\"population\"] = df_population.select(\"City\", \"State\")\\\n",
    "        .groupby(\"City\", \"State\")\\\n",
    "        .count()\\\n",
    "        .filter(col(\"count\") > 1)\\\n",
    "        .count()\n",
    "    \n",
    "    # all city, state and race should have unique count\n",
    "    result[\"race\"] = df_race.select(\"City\", \"State\", \"Race\")\\\n",
    "        .groupby(\"City\", \"State\", \"Race\")\\\n",
    "        .count()\\\n",
    "        .filter(col(\"count\") > 1)\\\n",
    "        .count()\n",
    "    \n",
    "    # print results\n",
    "    for item, value in result.items():\n",
    "        print(f\"{item}: {value}\")\n",
    "\n",
    "# execute function\n",
    "check_duplicate()"
   ]
  },
  {
   "cell_type": "code",
   "execution_count": 99,
   "metadata": {
    "editable": true
   },
   "outputs": [],
   "source": [
    "# drop duplicated records in three tables\n",
    "df_age = df_age.dropDuplicates()\n",
    "df_foreign = df_foreign.dropDuplicates()\n",
    "df_population = df_population.dropDuplicates()"
   ]
  },
  {
   "cell_type": "code",
   "execution_count": 100,
   "metadata": {
    "editable": true
   },
   "outputs": [
    {
     "name": "stdout",
     "output_type": "stream",
     "text": [
      "age: 0\n",
      "foreign: 0\n",
      "population: 0\n",
      "race: 0\n"
     ]
    }
   ],
   "source": [
    "# check again if duplicated records dosn't exist anymore\n",
    "check_duplicate()"
   ]
  },
  {
   "cell_type": "markdown",
   "metadata": {
    "editable": true
   },
   "source": [
    "3. For country data, lines must be splited two columns."
   ]
  },
  {
   "cell_type": "code",
   "execution_count": 27,
   "metadata": {
    "editable": true
   },
   "outputs": [
    {
     "data": {
      "text/html": [
       "<div>\n",
       "<style scoped>\n",
       "    .dataframe tbody tr th:only-of-type {\n",
       "        vertical-align: middle;\n",
       "    }\n",
       "\n",
       "    .dataframe tbody tr th {\n",
       "        vertical-align: top;\n",
       "    }\n",
       "\n",
       "    .dataframe thead th {\n",
       "        text-align: right;\n",
       "    }\n",
       "</style>\n",
       "<table border=\"1\" class=\"dataframe\">\n",
       "  <thead>\n",
       "    <tr style=\"text-align: right;\">\n",
       "      <th></th>\n",
       "      <th>code</th>\n",
       "      <th>name</th>\n",
       "    </tr>\n",
       "  </thead>\n",
       "  <tbody>\n",
       "    <tr>\n",
       "      <th>0</th>\n",
       "      <td>582</td>\n",
       "      <td>'MEXICO Air Sea, and Not Reported (I-94, no ...</td>\n",
       "    </tr>\n",
       "    <tr>\n",
       "      <th>1</th>\n",
       "      <td>236</td>\n",
       "      <td>'AFGHANISTAN'</td>\n",
       "    </tr>\n",
       "    <tr>\n",
       "      <th>2</th>\n",
       "      <td>101</td>\n",
       "      <td>'ALBANIA'</td>\n",
       "    </tr>\n",
       "    <tr>\n",
       "      <th>3</th>\n",
       "      <td>316</td>\n",
       "      <td>'ALGERIA'</td>\n",
       "    </tr>\n",
       "    <tr>\n",
       "      <th>4</th>\n",
       "      <td>102</td>\n",
       "      <td>'ANDORRA'</td>\n",
       "    </tr>\n",
       "  </tbody>\n",
       "</table>\n",
       "</div>"
      ],
      "text/plain": [
       "   code                                               name\n",
       "0  582     'MEXICO Air Sea, and Not Reported (I-94, no ...\n",
       "1  236                                       'AFGHANISTAN'\n",
       "2  101                                           'ALBANIA'\n",
       "3  316                                           'ALGERIA'\n",
       "4  102                                           'ANDORRA'"
      ]
     },
     "execution_count": 27,
     "metadata": {},
     "output_type": "execute_result"
    }
   ],
   "source": [
    "# delete whitespaces and sperating chracter, and add each column name\n",
    "df_country = pd.DataFrame((line.strip().split('=') for line in lines), columns=[\"code\", \"name\"])\n",
    "df_country.head()"
   ]
  },
  {
   "cell_type": "markdown",
   "metadata": {
    "editable": true
   },
   "source": [
    "4. There are still whitespaces and single quote to eliminate."
   ]
  },
  {
   "cell_type": "code",
   "execution_count": 31,
   "metadata": {
    "editable": true
   },
   "outputs": [
    {
     "data": {
      "text/html": [
       "<div>\n",
       "<style scoped>\n",
       "    .dataframe tbody tr th:only-of-type {\n",
       "        vertical-align: middle;\n",
       "    }\n",
       "\n",
       "    .dataframe tbody tr th {\n",
       "        vertical-align: top;\n",
       "    }\n",
       "\n",
       "    .dataframe thead th {\n",
       "        text-align: right;\n",
       "    }\n",
       "</style>\n",
       "<table border=\"1\" class=\"dataframe\">\n",
       "  <thead>\n",
       "    <tr style=\"text-align: right;\">\n",
       "      <th></th>\n",
       "      <th>code</th>\n",
       "      <th>name</th>\n",
       "    </tr>\n",
       "  </thead>\n",
       "  <tbody>\n",
       "    <tr>\n",
       "      <th>0</th>\n",
       "      <td>582</td>\n",
       "      <td>MEXICO Air Sea, and Not Reported (I-94, no lan...</td>\n",
       "    </tr>\n",
       "    <tr>\n",
       "      <th>1</th>\n",
       "      <td>236</td>\n",
       "      <td>AFGHANISTAN</td>\n",
       "    </tr>\n",
       "    <tr>\n",
       "      <th>2</th>\n",
       "      <td>101</td>\n",
       "      <td>ALBANIA</td>\n",
       "    </tr>\n",
       "    <tr>\n",
       "      <th>3</th>\n",
       "      <td>316</td>\n",
       "      <td>ALGERIA</td>\n",
       "    </tr>\n",
       "    <tr>\n",
       "      <th>4</th>\n",
       "      <td>102</td>\n",
       "      <td>ANDORRA</td>\n",
       "    </tr>\n",
       "  </tbody>\n",
       "</table>\n",
       "</div>"
      ],
      "text/plain": [
       "   code                                               name\n",
       "0   582  MEXICO Air Sea, and Not Reported (I-94, no lan...\n",
       "1   236                                        AFGHANISTAN\n",
       "2   101                                            ALBANIA\n",
       "3   316                                            ALGERIA\n",
       "4   102                                            ANDORRA"
      ]
     },
     "execution_count": 31,
     "metadata": {},
     "output_type": "execute_result"
    }
   ],
   "source": [
    "# strip whitespaces and singe quote\n",
    "df_country[[\"name\"]] = df_country.name.map(lambda x: x.strip().strip(\"'\"))\n",
    "df_country.head()"
   ]
  },
  {
   "cell_type": "markdown",
   "metadata": {
    "editable": true
   },
   "source": [
    "5. And first column should be converted integer type."
   ]
  },
  {
   "cell_type": "code",
   "execution_count": 28,
   "metadata": {
    "editable": true
   },
   "outputs": [
    {
     "data": {
      "text/plain": [
       "code    object\n",
       "name    object\n",
       "dtype: object"
      ]
     },
     "execution_count": 28,
     "metadata": {},
     "output_type": "execute_result"
    }
   ],
   "source": [
    "df_country.dtypes"
   ]
  },
  {
   "cell_type": "code",
   "execution_count": 29,
   "metadata": {
    "editable": true
   },
   "outputs": [
    {
     "data": {
      "text/plain": [
       "code     int32\n",
       "name    object\n",
       "dtype: object"
      ]
     },
     "execution_count": 29,
     "metadata": {},
     "output_type": "execute_result"
    }
   ],
   "source": [
    "# change data type of code to integer for later join\n",
    "df_country = df_country.astype({\"code\": \"int32\"})\n",
    "df_country.dtypes"
   ]
  },
  {
   "cell_type": "code",
   "execution_count": 32,
   "metadata": {
    "editable": true
   },
   "outputs": [],
   "source": [
    "# convert dataframe to spark one\n",
    "df_country = spark.createDataFrame(df_country)"
   ]
  },
  {
   "cell_type": "markdown",
   "metadata": {
    "editable": true
   },
   "source": [
    "#### Staging Steps\n",
    "Write data to staging table as a parquet format."
   ]
  },
  {
   "cell_type": "code",
   "execution_count": 101,
   "metadata": {
    "editable": true
   },
   "outputs": [],
   "source": [
    "# immigrant data is large, so paritition them \n",
    "df_imgr.write.parquet(\"immigration\", mode=\"overwrite\", partitionBy=[\"cit\"])\n",
    "df_age.write.parquet(\"age\", mode=\"overwrite\")\n",
    "df_population.write.parquet(\"population\", mode=\"overwrite\")\n",
    "df_foreign.write.parquet(\"foreign\", mode=\"overwrite\")\n",
    "df_race.write.parquet(\"race\", mode=\"overwrite\")\n",
    "df_country.write.parquet(\"country\", mode=\"overwrite\")"
   ]
  },
  {
   "cell_type": "markdown",
   "metadata": {
    "editable": true
   },
   "source": [
    "### Step 3: Define the Data Model\n",
    "#### 3.1 Conceptual Data Model\n",
    "Data in staging tables are extracted from original data. Each tables are seperated by columns' relations but can be joined whenever it's needed.  \n",
    "In this project, they are aggrerated so to create analytic tables according to objective questions.  \n",
    "\n",
    "**Staging Tables**  \n",
    "![ERD](img/staging_tables.PNG)  \n",
    "**Analytic Tables**  \n",
    "![ERD](img/analytic.png) "
   ]
  },
  {
   "cell_type": "markdown",
   "metadata": {
    "editable": true
   },
   "source": [
    "#### 3.2 Mapping Out Data Pipelines  \n",
    "1. Read original data, Transform and load data into staging tables  \n",
    "![pipeline1](img/pipeline1.png)  \n",
    "  \n",
    "2. Aggregate staging tables and load data into analytic tables  \n",
    "\n",
    "  **country_from_by_visa**\n",
    "\n",
    "  ![pipeline_q1](img/pipeline_q1.png)\n",
    "\n",
    "  **age_by_state_and_immigrants_age**  \n",
    "\n",
    "  ![pipeline_q2](img/pipeline_q2.png)  \n",
    "\n",
    "  **race_by_state**  \n",
    "\n",
    "  ![pipeline_q3](img/pipeline_q3.png)  \n",
    "\n",
    "  **foreign_born_by_state**\n",
    "\n",
    "  ![pipeline_q4](img/pipeline_q4.png)  "
   ]
  },
  {
   "cell_type": "markdown",
   "metadata": {
    "editable": true
   },
   "source": [
    "### Step 4: Run Pipelines to Model the Data \n",
    "#### 4.1 Create the data model"
   ]
  },
  {
   "cell_type": "code",
   "execution_count": 102,
   "metadata": {
    "editable": true
   },
   "outputs": [],
   "source": [
    "# create template view for sql query\n",
    "df_imgr.createOrReplaceTempView(\"imgr\")\n",
    "df_age.createOrReplaceTempView(\"age\")\n",
    "df_population.createOrReplaceTempView(\"population\")\n",
    "df_foreign.createOrReplaceTempView(\"foreign\")\n",
    "df_race.createOrReplaceTempView(\"race\")\n",
    "df_country.createOrReplaceTempView(\"country\")"
   ]
  },
  {
   "cell_type": "code",
   "execution_count": 82,
   "metadata": {
    "editable": true
   },
   "outputs": [
    {
     "name": "stdout",
     "output_type": "stream",
     "text": [
      "+----+--------------------+------+\n",
      "|visa|             country| count|\n",
      "+----+--------------------+------+\n",
      "|  B1|             -total-|212410|\n",
      "|  B1|          CHINA, PRC| 32284|\n",
      "|  B1|MEXICO Air Sea, a...| 31031|\n",
      "|  B1|               INDIA| 22485|\n",
      "|  B1|              BRAZIL| 14044|\n",
      "+----+--------------------+------+\n",
      "only showing top 5 rows\n",
      "\n"
     ]
    }
   ],
   "source": [
    "# count immigrations by visa type and their country\n",
    "df_q1 = spark.sql(\"\"\"\n",
    "    SELECT visa, name country, count(*) count\n",
    "    FROM imgr\n",
    "    JOIN country\n",
    "    ON res=code\n",
    "    GROUP BY visa, name\n",
    "    UNION\n",
    "    SELECT visa, '-total-', count(*) count\n",
    "    FROM imgr\n",
    "    JOIN country\n",
    "    ON res=code\n",
    "    GROUP BY visa\n",
    "    ORDER BY visa, count DESC\n",
    "\"\"\")\n",
    "df_q1.show(5)"
   ]
  },
  {
   "cell_type": "code",
   "execution_count": 103,
   "metadata": {
    "editable": true
   },
   "outputs": [
    {
     "name": "stdout",
     "output_type": "stream",
     "text": [
      "+-----+----------+-----+----------+\n",
      "|Group|     State|count|Median_age|\n",
      "+-----+----------+-----+----------+\n",
      "|20-25|  New York|41284|        35|\n",
      "|20-25|   Florida|33831|        39|\n",
      "|20-25|California|33033|        36|\n",
      "|20-25|    Hawaii| 8225|        41|\n",
      "|20-25|     Texas| 6191|        33|\n",
      "+-----+----------+-----+----------+\n",
      "only showing top 5 rows\n",
      "\n"
     ]
    }
   ],
   "source": [
    "# count immigrations by age groups and the state, showing the average of median age in the state\n",
    "df_q2 = spark.sql(\"\"\"\n",
    "    SELECT \n",
    "        case when year-birth < 20 then 'under 20'\n",
    "        when year-birth >=20 and year-birth <=25 then '20-25'\n",
    "        when year-birth >=26 and year-birth <=40 then '26-40'\n",
    "        when year-birth >=41 and year-birth <=60 then '41-60'\n",
    "        when year-birth > 60 then 'above 60' end as Group,\n",
    "        State, count(*) count, age.Median_age\n",
    "    FROM imgr\n",
    "    JOIN (SELECT State, State_Code, cast(avg(Median_age) as int) Median_age\n",
    "            FROM age\n",
    "            GROUP BY State, State_Code) age\n",
    "    ON addr=state_code\n",
    "    GROUP BY Group, State, Median_age\n",
    "    ORDER BY Group, count DESC\n",
    "\"\"\")\n",
    "df_q2.show(5)"
   ]
  },
  {
   "cell_type": "code",
   "execution_count": 107,
   "metadata": {
    "editable": true
   },
   "outputs": [
    {
     "name": "stdout",
     "output_type": "stream",
     "text": [
      "+------------+------------+-----+-----+-----+\n",
      "|Country_from|    State_to|count| Race| rate|\n",
      "+------------+------------+-----+-----+-----+\n",
      "| AFGHANISTAN|North Dakota|    1|White|86.82|\n",
      "| AFGHANISTAN|      Oregon|    1|White|74.21|\n",
      "| AFGHANISTAN|      Kansas|    1|White|69.88|\n",
      "| AFGHANISTAN|    Colorado|    3|White|68.69|\n",
      "| AFGHANISTAN|   Minnesota|    1|White|67.89|\n",
      "+------------+------------+-----+-----+-----+\n",
      "only showing top 5 rows\n",
      "\n"
     ]
    }
   ],
   "source": [
    "# count immigrants by country came from and the state visited, showing race rate in the state\n",
    "df_q3 = spark.sql(\"\"\"\n",
    "    SELECT country.name as Country_from, t2.State as State_to, count(*) count, t2.Race, t2.Count as rate\n",
    "    FROM imgr\n",
    "    JOIN country\n",
    "    ON res=code\n",
    "    JOIN (SELECT race.State, race.State_Code, race.Race, ROUND(100*sum(Count)/t1.total, 2) Count\n",
    "        FROM race\n",
    "        JOIN (SELECT race.State, sum(Count) total\n",
    "            FROM race\n",
    "            GROUP BY race.State) t1\n",
    "        ON race.State=t1.State\n",
    "        GROUP BY race.State, race.State_Code, race.Race, t1.total) t2\n",
    "    ON imgr.addr=t2.State_Code\n",
    "    GROUP BY Country_from, State_to, t2.Race, rate\n",
    "    ORDER BY Country_from, count DESC, rate DESC\n",
    "\"\"\")\n",
    "df_q3.show(5)"
   ]
  },
  {
   "cell_type": "code",
   "execution_count": 110,
   "metadata": {
    "editable": true
   },
   "outputs": [
    {
     "name": "stdout",
     "output_type": "stream",
     "text": [
      "+----------+------------+------+\n",
      "|     State|Foreign_Born| count|\n",
      "+----------+------------+------+\n",
      "|   Florida|       25.85|621701|\n",
      "|  New York|       34.68|553677|\n",
      "|California|       30.11|470386|\n",
      "|    Hawaii|       28.72|168764|\n",
      "|     Texas|       20.82|134321|\n",
      "+----------+------------+------+\n",
      "only showing top 5 rows\n",
      "\n"
     ]
    }
   ],
   "source": [
    "# count immigrations by the state and show the percentage of foreign born in the state\n",
    "df_q4 = spark.sql(\"\"\"\n",
    "    SELECT t1.State, round(100*Foreign_Born/total, 2) Foreign_Born, count(*) as count\n",
    "    FROM (SELECT foreign.state, foreign.state_code, sum(foreign.Foreign_Born) Foreign_Born, sum(population.total) total\n",
    "            FROM foreign\n",
    "            JOIN population\n",
    "            ON foreign.city=population.city\n",
    "            GROUP BY foreign.state, foreign.state_code) t1\n",
    "    JOIN imgr\n",
    "    ON imgr.addr=t1.State_Code\n",
    "    GROUP BY t1.State, Foreign_Born, total\n",
    "    ORDER BY count DESC\n",
    "\"\"\")\n",
    "df_q4.show(5)"
   ]
  },
  {
   "cell_type": "code",
   "execution_count": 111,
   "metadata": {
    "editable": true
   },
   "outputs": [],
   "source": [
    "# save all data as parquet file\n",
    "df_q1.write.parquet(\"country_from_by_visa\", mode=\"overwrite\")\n",
    "df_q2.write.parquet(\"age_by_state_and_immigrants_age\", mode=\"overwrite\")\n",
    "df_q3.write.parquet(\"race_by_state\", mode=\"overwrite\")\n",
    "df_q4.write.parquet(\"foreign_born_by_state\", mode=\"overwrite\")"
   ]
  },
  {
   "cell_type": "markdown",
   "metadata": {
    "editable": true
   },
   "source": [
    "#### 4.2 Data Quality Checks "
   ]
  },
  {
   "cell_type": "markdown",
   "metadata": {
    "editable": true
   },
   "source": [
    "Check if there exists any duplicate data."
   ]
  },
  {
   "cell_type": "code",
   "execution_count": 66,
   "metadata": {
    "editable": true
   },
   "outputs": [
    {
     "data": {
      "text/plain": [
       "0"
      ]
     },
     "execution_count": 66,
     "metadata": {},
     "output_type": "execute_result"
    }
   ],
   "source": [
    "# immigration data should have unique id\n",
    "df_imgr.select(\"id\")\\\n",
    "    .groupby(\"id\")\\\n",
    "    .count()\\\n",
    "    .filter(col(\"count\") > 1)\\\n",
    "    .count()"
   ]
  },
  {
   "cell_type": "code",
   "execution_count": 67,
   "metadata": {
    "editable": true
   },
   "outputs": [
    {
     "data": {
      "text/plain": [
       "0"
      ]
     },
     "execution_count": 67,
     "metadata": {},
     "output_type": "execute_result"
    }
   ],
   "source": [
    "# country data should have unique code\n",
    "df_country.select(\"Code\")\\\n",
    "    .groupby(\"Code\")\\\n",
    "    .count()\\\n",
    "    .filter(col(\"count\") > 1)\\\n",
    "    .count()"
   ]
  },
  {
   "cell_type": "code",
   "execution_count": null,
   "metadata": {
    "editable": true
   },
   "outputs": [],
   "source": [
    "# check other staging tables\n",
    "check_duplicate()"
   ]
  },
  {
   "cell_type": "markdown",
   "metadata": {
    "editable": true
   },
   "source": [
    "Read parquet files and check record counts and sample data for all tables."
   ]
  },
  {
   "cell_type": "code",
   "execution_count": 118,
   "metadata": {
    "editable": true
   },
   "outputs": [],
   "source": [
    "def quality_check(fname):\n",
    "    \"\"\"\n",
    "    Reads a parquet file and prints schema, row count, and sample data.\n",
    "    \"\"\"\n",
    "    # print table name\n",
    "    print(f\"### {fname} ###\")\n",
    "    \n",
    "    # read parquet file\n",
    "    df = spark.read.parquet(fname)\n",
    "    \n",
    "    # print schema\n",
    "    df.printSchema()\n",
    "    \n",
    "    # print total records count\n",
    "    print(f\"total records: {df.count()}\")\n",
    "    \n",
    "    #print sample data\n",
    "    df.show(5)"
   ]
  },
  {
   "cell_type": "code",
   "execution_count": 119,
   "metadata": {
    "editable": true
   },
   "outputs": [
    {
     "name": "stdout",
     "output_type": "stream",
     "text": [
      "### immigration ###\n",
      "root\n",
      " |-- id: integer (nullable = true)\n",
      " |-- year: integer (nullable = true)\n",
      " |-- month: integer (nullable = true)\n",
      " |-- res: integer (nullable = true)\n",
      " |-- port: string (nullable = true)\n",
      " |-- addr: string (nullable = true)\n",
      " |-- birth: integer (nullable = true)\n",
      " |-- gender: string (nullable = true)\n",
      " |-- visa: string (nullable = true)\n",
      " |-- cit: integer (nullable = true)\n",
      "\n",
      "total records: 3096313\n",
      "+-------+----+-----+---+----+----+-----+------+----+---+\n",
      "|     id|year|month|res|port|addr|birth|gender|visa|cit|\n",
      "+-------+----+-----+---+----+----+-----+------+----+---+\n",
      "|4284274|2016|    4|102| NYC|  NY| 1968|     M|  WB|135|\n",
      "|  27540|2016|    4|103| LOS|   0| 1981|     M|  B2|135|\n",
      "|4284275|2016|    4|104| DEN|  CO| 1951|     0|  WB|135|\n",
      "|  27541|2016|    4|104| CLT|  FL| 1949|     F|  WT|135|\n",
      "|4284276|2016|    4|104| NYC|  NY| 1943|     F|  WT|135|\n",
      "+-------+----+-----+---+----+----+-----+------+----+---+\n",
      "only showing top 5 rows\n",
      "\n",
      "### age ###\n",
      "root\n",
      " |-- City: string (nullable = true)\n",
      " |-- State: string (nullable = true)\n",
      " |-- State_Code: string (nullable = true)\n",
      " |-- Median_age: double (nullable = true)\n",
      "\n",
      "total records: 596\n",
      "+-------------------+----------+----------+----------+\n",
      "|               City|     State|State_Code|Median_age|\n",
      "+-------------------+----------+----------+----------+\n",
      "|         South Bend|   Indiana|        IN|      32.4|\n",
      "|          Hawthorne|California|        CA|      33.7|\n",
      "|          Elizabeth|New Jersey|        NJ|      34.2|\n",
      "|South San Francisco|California|        CA|      39.4|\n",
      "|       Fort Collins|  Colorado|        CO|      29.6|\n",
      "+-------------------+----------+----------+----------+\n",
      "only showing top 5 rows\n",
      "\n",
      "### population ###\n",
      "root\n",
      " |-- City: string (nullable = true)\n",
      " |-- State: string (nullable = true)\n",
      " |-- State_Code: string (nullable = true)\n",
      " |-- Male: integer (nullable = true)\n",
      " |-- Female: integer (nullable = true)\n",
      " |-- total: integer (nullable = true)\n",
      "\n",
      "total records: 596\n",
      "+----------+----------+----------+------+------+------+\n",
      "|      City|     State|State_Code|  Male|Female| total|\n",
      "+----------+----------+----------+------+------+------+\n",
      "|    Newark|New Jersey|        NJ|138040|143873|281913|\n",
      "|    Peoria|  Illinois|        IL| 56229| 62432|118661|\n",
      "|San Marcos|California|        CA| 45246| 47688| 92934|\n",
      "|  Billings|   Montana|        MT| 52705| 57565|110270|\n",
      "| Pittsburg|California|        CA| 33309| 36118| 69427|\n",
      "+----------+----------+----------+------+------+------+\n",
      "only showing top 5 rows\n",
      "\n",
      "### race ###\n",
      "root\n",
      " |-- City: string (nullable = true)\n",
      " |-- State: string (nullable = true)\n",
      " |-- State_Code: string (nullable = true)\n",
      " |-- Race: string (nullable = true)\n",
      " |-- Count: integer (nullable = true)\n",
      "\n",
      "total records: 2891\n",
      "+----------------+-------------+----------+--------------------+-----+\n",
      "|            City|        State|State_Code|                Race|Count|\n",
      "+----------------+-------------+----------+--------------------+-----+\n",
      "|   Silver Spring|     Maryland|        MD|  Hispanic or Latino|25924|\n",
      "|          Quincy|Massachusetts|        MA|               White|58723|\n",
      "|          Hoover|      Alabama|        AL|               Asian| 4759|\n",
      "|Rancho Cucamonga|   California|        CA|Black or African-...|24437|\n",
      "|          Newark|   New Jersey|        NJ|               White|76402|\n",
      "+----------------+-------------+----------+--------------------+-----+\n",
      "only showing top 5 rows\n",
      "\n",
      "### foreign ###\n",
      "root\n",
      " |-- City: string (nullable = true)\n",
      " |-- State: string (nullable = true)\n",
      " |-- State_Code: string (nullable = true)\n",
      " |-- Foreign_Born: integer (nullable = true)\n",
      "\n",
      "total records: 596\n",
      "+----------------+--------------+----------+------------+\n",
      "|            City|         State|State_Code|Foreign_Born|\n",
      "+----------------+--------------+----------+------------+\n",
      "|   Winston-Salem|North Carolina|        NC|       24302|\n",
      "|       Rock Hill|South Carolina|        SC|        2413|\n",
      "|Huntington Beach|    California|        CA|       35368|\n",
      "|      Union City|    New Jersey|        NJ|       40553|\n",
      "|      Providence|  Rhode Island|        RI|       53532|\n",
      "+----------------+--------------+----------+------------+\n",
      "only showing top 5 rows\n",
      "\n",
      "### country ###\n",
      "root\n",
      " |-- code: long (nullable = true)\n",
      " |-- name: string (nullable = true)\n",
      "\n",
      "total records: 289\n",
      "+----+--------------------+\n",
      "|code|                name|\n",
      "+----+--------------------+\n",
      "| 582|MEXICO Air Sea, a...|\n",
      "| 236|         AFGHANISTAN|\n",
      "| 101|             ALBANIA|\n",
      "| 316|             ALGERIA|\n",
      "| 102|             ANDORRA|\n",
      "+----+--------------------+\n",
      "only showing top 5 rows\n",
      "\n",
      "### country_from_by_visa ###\n",
      "root\n",
      " |-- visa: string (nullable = true)\n",
      " |-- country: string (nullable = true)\n",
      " |-- count: long (nullable = true)\n",
      "\n",
      "total records: 1683\n",
      "+----+--------------------+-----+\n",
      "|visa|             country|count|\n",
      "+----+--------------------+-----+\n",
      "| CPL|MEXICO Air Sea, a...|    2|\n",
      "|  M2|MEXICO Air Sea, a...|    4|\n",
      "|  WB|          KAZAKHSTAN|    1|\n",
      "|  WB|CENTRAL AFRICAN R...|    1|\n",
      "|  WB|               NAURU|    1|\n",
      "+----+--------------------+-----+\n",
      "only showing top 5 rows\n",
      "\n",
      "### age_by_state_and_immigrants_age ###\n",
      "root\n",
      " |-- Group: string (nullable = true)\n",
      " |-- State: string (nullable = true)\n",
      " |-- count: long (nullable = true)\n",
      " |-- Median_age: integer (nullable = true)\n",
      "\n",
      "total records: 245\n",
      "+--------+--------------------+-----+----------+\n",
      "|   Group|               State|count|Median_age|\n",
      "+--------+--------------------+-----+----------+\n",
      "|under 20|District of Columbia| 2129|        33|\n",
      "|above 60|District of Columbia| 4659|        33|\n",
      "|   26-40|District of Columbia| 8324|        33|\n",
      "|   41-60|District of Columbia|12004|        33|\n",
      "|above 60|      South Carolina| 1887|        34|\n",
      "+--------+--------------------+-----+----------+\n",
      "only showing top 5 rows\n",
      "\n",
      "### race_by_state ###\n",
      "root\n",
      " |-- Country_from: string (nullable = true)\n",
      " |-- State_to: string (nullable = true)\n",
      " |-- count: long (nullable = true)\n",
      " |-- Race: string (nullable = true)\n",
      " |-- rate: double (nullable = true)\n",
      "\n",
      "total records: 35602\n",
      "+--------------------+------------+-----+--------------------+-----+\n",
      "|        Country_from|    State_to|count|                Race| rate|\n",
      "+--------------------+------------+-----+--------------------+-----+\n",
      "|MEXICO Air Sea, a...|  New Jersey| 1275|               White|34.25|\n",
      "|MEXICO Air Sea, a...|  New Jersey| 1275|  Hispanic or Latino|33.43|\n",
      "|MEXICO Air Sea, a...|        Ohio| 1155|Black or African-...|33.09|\n",
      "|MEXICO Air Sea, a...|Pennsylvania|  993|Black or African-...|31.82|\n",
      "|MEXICO Air Sea, a...|    Delaware|  409|               White|31.64|\n",
      "+--------------------+------------+-----+--------------------+-----+\n",
      "only showing top 5 rows\n",
      "\n",
      "### foreign_born_by_state ###\n",
      "root\n",
      " |-- State: string (nullable = true)\n",
      " |-- Foreign_Born: double (nullable = true)\n",
      " |-- count: long (nullable = true)\n",
      "\n",
      "total records: 49\n",
      "+--------------------+------------+-----+\n",
      "|               State|Foreign_Born|count|\n",
      "+--------------------+------------+-----+\n",
      "|District of Columbia|       14.15|28228|\n",
      "|      North Carolina|        9.79|23375|\n",
      "|      South Carolina|        5.28| 9811|\n",
      "|       Massachusetts|       24.32|70486|\n",
      "|       New Hampshire|       13.72| 2817|\n",
      "+--------------------+------------+-----+\n",
      "only showing top 5 rows\n",
      "\n"
     ]
    }
   ],
   "source": [
    "quality_check(\"immigration\")\n",
    "quality_check(\"age\")\n",
    "quality_check(\"population\")\n",
    "quality_check(\"race\")\n",
    "quality_check(\"foreign\")\n",
    "quality_check(\"country\")\n",
    "quality_check(\"country_from_by_visa\")\n",
    "quality_check(\"age_by_state_and_immigrants_age\")\n",
    "quality_check(\"race_by_state\")\n",
    "quality_check(\"foreign_born_by_state\")"
   ]
  },
  {
   "cell_type": "markdown",
   "metadata": {
    "editable": true
   },
   "source": [
    "#### 4.3 Data Dictionary\n",
    "\n",
    "| Table Name | Attributes Name | Contents | Type | Format | PK or FK | FK reference Table |\n",
    "| :--- | :--- | :--- | :--- | :--- | :--- | :--- | \n",
    "| age | city | city name in the US | string | Rockford | PK |  |\n",
    "| age | state | state name of the city | string | Kentucky | PK |\n",
    "| age | state_code | 2-character state code | string | KY | |\n",
    "| age | median_age | people's age in the middle | double | 36.3 | | |\n",
    "| population | city | city name in the US | string | San Diego | PK | |\n",
    "| population | state | state name of the city | string | Kentucky | PK |\n",
    "| population | state_code | 2-character state code | string | KY | |\n",
    "| population | male | male population in the city | integer | 693826 | |\n",
    "| population | female | female population in the city | integer | 701081 | |\n",
    "| population | total | total population in the city | integer | 1394907 | |\n",
    "| race | city | city name in the US | string | Albany | PK |  |\n",
    "| race | state | state name of the city | string | Kentucky | PK |\n",
    "| race | state_code | 2-character state code | string | KY | |\n",
    "| race | race | race type | string | Hispanic or Latino | |\n",
    "| race | count | population of each race | integer | 9266 | |\n",
    "| foreign | city | city name in the US | string | Scranton | PK | |\n",
    "| foreign | state | state name of the city | string | Kentucky | PK |\n",
    "| foreign | state_code | 2-character state code | string | KY | |\n",
    "| foreign | foreign_born | the number of foreign born in the city | integer | 8069 | |\n",
    "| country | code | 3-digit country code | long | 101 | PK | |\n",
    "| country | name | country name | string | ALBANIA | |\n",
    "| immigration | id | immigrant's id | integer | PK | |\n",
    "| immigration | year | year when entered | integer | 4284274 | |\n",
    "| immigration | month | month when entered | integer | 2016 | |\n",
    "| immigration | res | 3-digit country code of departure | integer | 4 | FK | country |\n",
    "| immigration | port | airport code of destination | string | 102  | |\n",
    "| immigration | addr | state code of immigrant's address in the US | string | NYC | FK | population |\n",
    "| immigration | birth | year of immigrant's birth | integer | NY | |\n",
    "| immigration | gender | immigrant's genter | string | 1968 | |\n",
    "| immigration | visa | immigrant's visa type | string | B1 | |\n",
    "| immigration | cit | country code of immigrant's citizenship | integer | 135 | |\n",
    "| country_from_by_visa | visa | immigrant's visa type | string | B1 | |\n",
    "| country_from_by_visa | country | country name where they're from | string | INDIA | |\n",
    "| country_from_by_visa | count | number of corresponding immigrants | long | 32284 | |\n",
    "| age_by_state_and_immigrants_age | group | age group of immigrants | string | under 20 | |\n",
    "| age_by_state_and_immigrants_age | state | state name of destination | string | New York | |\n",
    "| age_by_state_and_immigrants_age | count | number of corresponding immigrants | long | 41284 | |\n",
    "| age_by_state_and_immigrants_age | median_age | people's middle age in the state | integer | 36 | |\n",
    "| race_by_state | country_from | country name where they're from | string | AFGHANISTAN | |\n",
    "| race_by_state | state_to | state name of destination | string | California | |\n",
    "| race_by_state | count | number of corresponding immigrants | long | 34 | |\n",
    "| race_by_state | race | race type | string | string | White | |\n",
    "| race_by_state | rate | percentage of each race population | double | 47.34 | |\n",
    "| foreign_born_by_state | state | state name of destination | string | Florida | |\n",
    "| foreign_born_by_state | foreign_born | the number of foreign born in the state | double |\n",
    "26.8 | |\n",
    "| foreign_born_by_state | count | number of corresponding immigrants | long | 621701 | |\n"
   ]
  },
  {
   "cell_type": "markdown",
   "metadata": {
    "editable": true
   },
   "source": [
    "#### Step 5: Complete Project Write Up\n",
    "* **Clearly state the rationale for the choice of tools and technologies for the project.**  \n",
    "  Immigration data file has hundreds of thousands records only for 1 month.  \n",
    "  Spark is good for big data to read fast, therefore I processed ETL pipeline using Spark.  \n",
    "  I chose parquet format to save data because parquet is column-oriented data storage format with efficient data compression and encoding schemes.  \n",
    "* **Propose how often the data should be updated and why.**  \n",
    "  The most important data in this project is immigration which is updated by month.  \n",
    "  Therefore ETL process should be run by month.  \n",
    "* (Write a description of how you would approach the problem differently under the following scenarios:)  \n",
    " * **The data was increased by 100x.**  \n",
    " ```\n",
    "   For increased data size, I would need to scale up system horizontally.\n",
    "   Using cloud computing service like AWS EMR is a good choice to deal with bigger data using more powerful computing nodes in parallel.  \n",
    "   ```\n",
    " * **The data populates a dashboard that must be updated on a daily basis by 7am every day.**\n",
    "```\n",
    "   I would use Apache Airflow for scheduling the ETL pipeline.  \n",
    "   Apache Airflow helps automize the ETL pipeline with wide extension to other tools.\n",
    "   ```\n",
    " * **The database needed to be accessed by 100+ people.**  \n",
    "   ```\n",
    "   To ensure high availability, database would be changed into NoSQL database.  \n",
    "   As relational database is not distributed and has one point to fail, it is not appropriate to multi user access.  \n",
    "   By using NoSQL database I could provide service with high availability.\n",
    "   ```"
   ]
  }
 ],
 "metadata": {
  "kernelspec": {
   "display_name": "Python 3",
   "language": "python",
   "name": "python3"
  },
  "language_info": {
   "codemirror_mode": {
    "name": "ipython",
    "version": 3
   },
   "file_extension": ".py",
   "mimetype": "text/x-python",
   "name": "python",
   "nbconvert_exporter": "python",
   "pygments_lexer": "ipython3",
   "version": "3.8.3"
  }
 },
 "nbformat": 4,
 "nbformat_minor": 4
}
