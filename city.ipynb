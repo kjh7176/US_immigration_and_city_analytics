{
 "cells": [
  {
   "cell_type": "code",
   "execution_count": 1,
   "metadata": {
    "editable": true
   },
   "outputs": [],
   "source": [
    "from pyspark.sql import SparkSession"
   ]
  },
  {
   "cell_type": "code",
   "execution_count": 2,
   "metadata": {
    "editable": true
   },
   "outputs": [],
   "source": [
    "spark = SparkSession.builder\\\n",
    "    .getOrCreate()"
   ]
  },
  {
   "cell_type": "code",
   "execution_count": 11,
   "metadata": {
    "editable": true
   },
   "outputs": [],
   "source": [
    "df = spark.read.csv(\"us-cities-demographics.csv\", sep=';', header=True, inferSchema=True)"
   ]
  },
  {
   "cell_type": "code",
   "execution_count": 12,
   "metadata": {
    "editable": true
   },
   "outputs": [
    {
     "name": "stdout",
     "output_type": "stream",
     "text": [
      "root\n",
      " |-- City: string (nullable = true)\n",
      " |-- State: string (nullable = true)\n",
      " |-- Median Age: double (nullable = true)\n",
      " |-- Male Population: integer (nullable = true)\n",
      " |-- Female Population: integer (nullable = true)\n",
      " |-- Total Population: integer (nullable = true)\n",
      " |-- Number of Veterans: integer (nullable = true)\n",
      " |-- Foreign-born: integer (nullable = true)\n",
      " |-- Average Household Size: double (nullable = true)\n",
      " |-- State Code: string (nullable = true)\n",
      " |-- Race: string (nullable = true)\n",
      " |-- Count: integer (nullable = true)\n",
      "\n"
     ]
    }
   ],
   "source": [
    "df.printSchema()"
   ]
  },
  {
   "cell_type": "code",
   "execution_count": 13,
   "metadata": {
    "editable": true
   },
   "outputs": [
    {
     "name": "stdout",
     "output_type": "stream",
     "text": [
      "+----------------+--------------+----------+---------------+-----------------+----------------+------------------+------------+----------------------+----------+--------------------+-----+\n",
      "|            City|         State|Median Age|Male Population|Female Population|Total Population|Number of Veterans|Foreign-born|Average Household Size|State Code|                Race|Count|\n",
      "+----------------+--------------+----------+---------------+-----------------+----------------+------------------+------------+----------------------+----------+--------------------+-----+\n",
      "|   Silver Spring|      Maryland|      33.8|          40601|            41862|           82463|              1562|       30908|                   2.6|        MD|  Hispanic or Latino|25924|\n",
      "|          Quincy| Massachusetts|      41.0|          44129|            49500|           93629|              4147|       32935|                  2.39|        MA|               White|58723|\n",
      "|          Hoover|       Alabama|      38.5|          38040|            46799|           84839|              4819|        8229|                  2.58|        AL|               Asian| 4759|\n",
      "|Rancho Cucamonga|    California|      34.5|          88127|            87105|          175232|              5821|       33878|                  3.18|        CA|Black or African-...|24437|\n",
      "|          Newark|    New Jersey|      34.6|         138040|           143873|          281913|              5829|       86253|                  2.73|        NJ|               White|76402|\n",
      "|          Peoria|      Illinois|      33.1|          56229|            62432|          118661|              6634|        7517|                   2.4|        IL|American Indian a...| 1343|\n",
      "|        Avondale|       Arizona|      29.1|          38712|            41971|           80683|              4815|        8355|                  3.18|        AZ|Black or African-...|11592|\n",
      "|     West Covina|    California|      39.8|          51629|            56860|          108489|              3800|       37038|                  3.56|        CA|               Asian|32716|\n",
      "|        O'Fallon|      Missouri|      36.0|          41762|            43270|           85032|              5783|        3269|                  2.77|        MO|  Hispanic or Latino| 2583|\n",
      "|      High Point|North Carolina|      35.5|          51751|            58077|          109828|              5204|       16315|                  2.65|        NC|               Asian|11060|\n",
      "+----------------+--------------+----------+---------------+-----------------+----------------+------------------+------------+----------------------+----------+--------------------+-----+\n",
      "only showing top 10 rows\n",
      "\n"
     ]
    }
   ],
   "source": [
    "df.show(10)"
   ]
  },
  {
   "cell_type": "code",
   "execution_count": 6,
   "metadata": {
    "editable": true
   },
   "outputs": [
    {
     "data": {
      "text/plain": [
       "2891"
      ]
     },
     "execution_count": 6,
     "metadata": {},
     "output_type": "execute_result"
    }
   ],
   "source": [
    "df.count()"
   ]
  },
  {
   "cell_type": "code",
   "execution_count": 14,
   "metadata": {
    "editable": true
   },
   "outputs": [
    {
     "name": "stdout",
     "output_type": "stream",
     "text": [
      "+----------+-----+\n",
      "|State Code|count|\n",
      "+----------+-----+\n",
      "|        CA|  676|\n",
      "|        TX|  273|\n",
      "|        FL|  222|\n",
      "|        IL|   91|\n",
      "|        WA|   85|\n",
      "|        AZ|   80|\n",
      "|        CO|   80|\n",
      "|        MI|   79|\n",
      "|        VA|   70|\n",
      "|        NC|   70|\n",
      "+----------+-----+\n",
      "only showing top 10 rows\n",
      "\n"
     ]
    }
   ],
   "source": [
    "df.select(\"State Code\").groupby(\"State Code\").count().orderBy(\"count\", ascending=False).show(10)"
   ]
  },
  {
   "cell_type": "code",
   "execution_count": 15,
   "metadata": {
    "editable": true
   },
   "outputs": [
    {
     "name": "stdout",
     "output_type": "stream",
     "text": [
      "+-------+-----+----------+---------------+-----------------+----------------+------------------+------------+----------------------+----------+--------------------+------+\n",
      "|   City|State|Median Age|Male Population|Female Population|Total Population|Number of Veterans|Foreign-born|Average Household Size|State Code|                Race| Count|\n",
      "+-------+-----+----------+---------------+-----------------+----------------+------------------+------------+----------------------+----------+--------------------+------+\n",
      "|Abilene|Texas|      31.3|          65212|            60664|          125876|              9367|        8129|                  2.64|        TX|               White| 95487|\n",
      "|Abilene|Texas|      31.3|          65212|            60664|          125876|              9367|        8129|                  2.64|        TX|American Indian a...|  1813|\n",
      "|Abilene|Texas|      31.3|          65212|            60664|          125876|              9367|        8129|                  2.64|        TX|               Asian|  2929|\n",
      "|Abilene|Texas|      31.3|          65212|            60664|          125876|              9367|        8129|                  2.64|        TX|  Hispanic or Latino| 33222|\n",
      "|Abilene|Texas|      31.3|          65212|            60664|          125876|              9367|        8129|                  2.64|        TX|Black or African-...| 14449|\n",
      "|  Akron| Ohio|      38.1|          96886|           100667|          197553|             12878|       10024|                  2.24|        OH|               White|129192|\n",
      "|  Akron| Ohio|      38.1|          96886|           100667|          197553|             12878|       10024|                  2.24|        OH|Black or African-...| 66551|\n",
      "|  Akron| Ohio|      38.1|          96886|           100667|          197553|             12878|       10024|                  2.24|        OH|               Asian|  9033|\n",
      "|  Akron| Ohio|      38.1|          96886|           100667|          197553|             12878|       10024|                  2.24|        OH|American Indian a...|  1845|\n",
      "|  Akron| Ohio|      38.1|          96886|           100667|          197553|             12878|       10024|                  2.24|        OH|  Hispanic or Latino|  3684|\n",
      "+-------+-----+----------+---------------+-----------------+----------------+------------------+------------+----------------------+----------+--------------------+------+\n",
      "only showing top 10 rows\n",
      "\n"
     ]
    }
   ],
   "source": [
    "df.orderBy(\"City\", \"State\").show(10)"
   ]
  },
  {
   "cell_type": "code",
   "execution_count": 45,
   "metadata": {
    "editable": true
   },
   "outputs": [],
   "source": [
    "from pyspark.sql.functions import col"
   ]
  },
  {
   "cell_type": "code",
   "execution_count": 47,
   "metadata": {
    "editable": true
   },
   "outputs": [
    {
     "name": "stdout",
     "output_type": "stream",
     "text": [
      "+----------------+--------------+----------+\n",
      "|            City|         State|State_Code|\n",
      "+----------------+--------------+----------+\n",
      "|   Silver Spring|      Maryland|        MD|\n",
      "|          Quincy| Massachusetts|        MA|\n",
      "|          Hoover|       Alabama|        AL|\n",
      "|Rancho Cucamonga|    California|        CA|\n",
      "|          Newark|    New Jersey|        NJ|\n",
      "|          Peoria|      Illinois|        IL|\n",
      "|        Avondale|       Arizona|        AZ|\n",
      "|     West Covina|    California|        CA|\n",
      "|        O'Fallon|      Missouri|        MO|\n",
      "|      High Point|North Carolina|        NC|\n",
      "+----------------+--------------+----------+\n",
      "only showing top 10 rows\n",
      "\n"
     ]
    }
   ],
   "source": [
    "df_city = df.select(\"City\", \"State\", col(\"State Code\").alias(\"State_Code\"))\n",
    "df_city.show(10)"
   ]
  },
  {
   "cell_type": "code",
   "execution_count": 48,
   "metadata": {
    "editable": true
   },
   "outputs": [
    {
     "name": "stdout",
     "output_type": "stream",
     "text": [
      "+----------------+----------+\n",
      "|            City|Median_age|\n",
      "+----------------+----------+\n",
      "|   Silver Spring|      33.8|\n",
      "|          Quincy|      41.0|\n",
      "|          Hoover|      38.5|\n",
      "|Rancho Cucamonga|      34.5|\n",
      "|          Newark|      34.6|\n",
      "|          Peoria|      33.1|\n",
      "|        Avondale|      29.1|\n",
      "|     West Covina|      39.8|\n",
      "|        O'Fallon|      36.0|\n",
      "|      High Point|      35.5|\n",
      "+----------------+----------+\n",
      "only showing top 10 rows\n",
      "\n"
     ]
    }
   ],
   "source": [
    "df_age = df.select(\"City\", col(\"Median Age\").alias(\"Median_age\"))\n",
    "df_age.show(10)"
   ]
  },
  {
   "cell_type": "code",
   "execution_count": 49,
   "metadata": {
    "editable": true
   },
   "outputs": [
    {
     "name": "stdout",
     "output_type": "stream",
     "text": [
      "+----------------+------+------+------+\n",
      "|            City|  Male|Female| total|\n",
      "+----------------+------+------+------+\n",
      "|   Silver Spring| 40601| 41862| 82463|\n",
      "|          Quincy| 44129| 49500| 93629|\n",
      "|          Hoover| 38040| 46799| 84839|\n",
      "|Rancho Cucamonga| 88127| 87105|175232|\n",
      "|          Newark|138040|143873|281913|\n",
      "|          Peoria| 56229| 62432|118661|\n",
      "|        Avondale| 38712| 41971| 80683|\n",
      "|     West Covina| 51629| 56860|108489|\n",
      "|        O'Fallon| 41762| 43270| 85032|\n",
      "|      High Point| 51751| 58077|109828|\n",
      "+----------------+------+------+------+\n",
      "only showing top 10 rows\n",
      "\n"
     ]
    }
   ],
   "source": [
    "df_population = df.select(\"City\", col(\"Male Population\").alias(\"Male\"), col(\"Female population\").alias(\"Female\"), col(\"total population\").alias(\"total\"))\n",
    "df_population.show(10)"
   ]
  },
  {
   "cell_type": "code",
   "execution_count": 50,
   "metadata": {
    "editable": true
   },
   "outputs": [
    {
     "name": "stdout",
     "output_type": "stream",
     "text": [
      "+----------------+------------+\n",
      "|            City|Foreign_Born|\n",
      "+----------------+------------+\n",
      "|   Silver Spring|       30908|\n",
      "|          Quincy|       32935|\n",
      "|          Hoover|        8229|\n",
      "|Rancho Cucamonga|       33878|\n",
      "|          Newark|       86253|\n",
      "|          Peoria|        7517|\n",
      "|        Avondale|        8355|\n",
      "|     West Covina|       37038|\n",
      "|        O'Fallon|        3269|\n",
      "|      High Point|       16315|\n",
      "+----------------+------------+\n",
      "only showing top 10 rows\n",
      "\n"
     ]
    }
   ],
   "source": [
    "df_foreign = df.select(\"City\", col(\"Foreign-born\").alias(\"Foreign_Born\"))\n",
    "df_foreign.show(10)"
   ]
  },
  {
   "cell_type": "code",
   "execution_count": 39,
   "metadata": {
    "editable": true
   },
   "outputs": [
    {
     "name": "stdout",
     "output_type": "stream",
     "text": [
      "+----------------+--------------------+-----+\n",
      "|            City|                Race|Count|\n",
      "+----------------+--------------------+-----+\n",
      "|   Silver Spring|  Hispanic or Latino|25924|\n",
      "|          Quincy|               White|58723|\n",
      "|          Hoover|               Asian| 4759|\n",
      "|Rancho Cucamonga|Black or African-...|24437|\n",
      "|          Newark|               White|76402|\n",
      "|          Peoria|American Indian a...| 1343|\n",
      "|        Avondale|Black or African-...|11592|\n",
      "|     West Covina|               Asian|32716|\n",
      "|        O'Fallon|  Hispanic or Latino| 2583|\n",
      "|      High Point|               Asian|11060|\n",
      "+----------------+--------------------+-----+\n",
      "only showing top 10 rows\n",
      "\n"
     ]
    }
   ],
   "source": [
    "df_race = df.select(\"City\", \"Race\", \"Count\")\n",
    "df_race.show(10)"
   ]
  },
  {
   "cell_type": "code",
   "execution_count": 51,
   "metadata": {
    "editable": true
   },
   "outputs": [],
   "source": [
    "df_city.write.parquet(\"city\", mode=\"overwrite\")"
   ]
  },
  {
   "cell_type": "code",
   "execution_count": 52,
   "metadata": {
    "editable": true
   },
   "outputs": [],
   "source": [
    "df_age.write.parquet(\"age\", mode=\"overwrite\")"
   ]
  },
  {
   "cell_type": "code",
   "execution_count": 54,
   "metadata": {
    "editable": true
   },
   "outputs": [],
   "source": [
    "df_population.write.parquet(\"population\", mode=\"overwrite\")"
   ]
  },
  {
   "cell_type": "code",
   "execution_count": 55,
   "metadata": {
    "editable": true
   },
   "outputs": [],
   "source": [
    "df_foreign.write.parquet(\"population\", mode=\"overwrite\")"
   ]
  },
  {
   "cell_type": "code",
   "execution_count": 56,
   "metadata": {
    "editable": true
   },
   "outputs": [],
   "source": [
    "df_race.write.parquet(\"population\", mode=\"overwrite\")"
   ]
  },
  {
   "cell_type": "code",
   "execution_count": null,
   "metadata": {
    "editable": true
   },
   "outputs": [],
   "source": []
  }
 ],
 "metadata": {
  "kernelspec": {
   "display_name": "Python 3",
   "language": "python",
   "name": "python3"
  },
  "language_info": {
   "codemirror_mode": {
    "name": "ipython",
    "version": 3
   },
   "file_extension": ".py",
   "mimetype": "text/x-python",
   "name": "python",
   "nbconvert_exporter": "python",
   "pygments_lexer": "ipython3",
   "version": "3.6.3"
  }
 },
 "nbformat": 4,
 "nbformat_minor": 4
}
